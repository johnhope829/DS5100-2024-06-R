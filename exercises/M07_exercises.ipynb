{
 "cells": [
  {
   "cell_type": "markdown",
   "id": "064b633a-e7cb-4810-b656-e85a70f8bb87",
   "metadata": {},
   "source": [
    "## Module 7 Exercises"
   ]
  },
  {
   "cell_type": "markdown",
   "id": "1c22ff7e-3e6f-4a48-8e0a-97edd817e8a6",
   "metadata": {},
   "source": [
    "## Exercise 7.1"
   ]
  },
  {
   "cell_type": "code",
   "execution_count": 32,
   "id": "64379023-a87b-44b7-9d67-961441b33c13",
   "metadata": {},
   "outputs": [],
   "source": [
    "class MyClass:\n",
    "    \n",
    "    '''\n",
    "    Example class for Exercise 7.1\n",
    "    '''\n",
    "\n",
    "    att1 = 'foo'\n",
    "    \n",
    "    def __init__(self, att2):\n",
    "        self.att2 = att2 \n",
    "        \n",
    "    def add(self):\n",
    "        print(self.att1 + self.att2)\n"
   ]
  },
  {
   "cell_type": "markdown",
   "id": "a3d0b935-a8bf-4229-baef-fe1d5808ed23",
   "metadata": {},
   "source": [
    "## Exercise 7.2"
   ]
  },
  {
   "cell_type": "code",
   "execution_count": 36,
   "id": "422e5cde-5997-4567-8bc1-48d8106da694",
   "metadata": {},
   "outputs": [],
   "source": [
    "my_class = MyClass('d')"
   ]
  },
  {
   "cell_type": "code",
   "execution_count": 37,
   "id": "3a2351f8-b736-4bc7-b7d5-e17642e8aae6",
   "metadata": {},
   "outputs": [
    {
     "data": {
      "text/plain": [
       "'foo'"
      ]
     },
     "execution_count": 37,
     "metadata": {},
     "output_type": "execute_result"
    }
   ],
   "source": [
    "my_class.att1"
   ]
  },
  {
   "cell_type": "code",
   "execution_count": 38,
   "id": "44622882-55d6-4e3a-9477-8c21145a1822",
   "metadata": {},
   "outputs": [
    {
     "data": {
      "text/plain": [
       "'d'"
      ]
     },
     "execution_count": 38,
     "metadata": {},
     "output_type": "execute_result"
    }
   ],
   "source": [
    "my_class.att2"
   ]
  },
  {
   "cell_type": "code",
   "execution_count": 39,
   "id": "b47dd416-8d09-4618-86aa-aafcbc5d1c8c",
   "metadata": {},
   "outputs": [
    {
     "name": "stdout",
     "output_type": "stream",
     "text": [
      "food\n"
     ]
    }
   ],
   "source": [
    "my_class.add()"
   ]
  },
  {
   "cell_type": "markdown",
   "id": "371c46a4-6d6b-4386-8d22-e9e077b9ff8c",
   "metadata": {},
   "source": [
    "## Exercise 7.3"
   ]
  },
  {
   "cell_type": "code",
   "execution_count": 93,
   "id": "12c1f46b-d093-4884-ac6b-e131254db6b7",
   "metadata": {},
   "outputs": [],
   "source": [
    "import pandas as pd\n",
    "\n",
    "class Student:\n",
    "    \n",
    "    def __init__(self, name, user_id):\n",
    "        self.name = name\n",
    "        self.user_id = user_id\n",
    "        self.grades = pd.Series(dtype = float)\n",
    "        \n",
    "    def add_assignment(self, assignment, grade):\n",
    "        self.grades.loc[assignment] = grade\n",
    "        \n",
    "    def plot_grades(self):\n",
    "        df = self.grades.to_frame('grades')\n",
    "        df.grades.plot.bar(title = f\"Grades for {self.name} (ID: {self.user_id})\")"
   ]
  },
  {
   "cell_type": "markdown",
   "id": "76876284-a44a-4654-bbd8-ac4c12fdcdc3",
   "metadata": {},
   "source": [
    "### Exercise 7.3a"
   ]
  },
  {
   "cell_type": "code",
   "execution_count": 94,
   "id": "0ff3d1a1-92a1-4a16-a0b0-29afa332463f",
   "metadata": {},
   "outputs": [],
   "source": [
    "stud = Student('John Hope','jah9kqn')"
   ]
  },
  {
   "cell_type": "code",
   "execution_count": 95,
   "id": "7e64d4b3-19b4-4532-8923-340713b8616b",
   "metadata": {},
   "outputs": [],
   "source": [
    "stud.add_assignment(assignment = 'HW01', grade = 99)\n",
    "stud.add_assignment(assignment = 'HW02', grade = 98)\n",
    "stud.add_assignment(assignment = 'HW03', grade = 100)\n",
    "stud.add_assignment(assignment = 'HW04', grade = 94)"
   ]
  },
  {
   "cell_type": "code",
   "execution_count": 96,
   "id": "306ce097-10ce-439a-ad78-83e5ae58fc1e",
   "metadata": {},
   "outputs": [
    {
     "data": {
      "text/plain": [
       "HW01     99\n",
       "HW02     98\n",
       "HW03    100\n",
       "HW04     94\n",
       "dtype: int64"
      ]
     },
     "execution_count": 96,
     "metadata": {},
     "output_type": "execute_result"
    }
   ],
   "source": [
    "stud.grades"
   ]
  },
  {
   "cell_type": "code",
   "execution_count": 97,
   "id": "1fad13f1-3f29-40b6-b37d-027d5a56954b",
   "metadata": {},
   "outputs": [
    {
     "data": {
      "image/png": "[encoded data removed]",
      "text/plain": [
       "<Figure size 432x288 with 1 Axes>"
      ]
     },
     "metadata": {
      "needs_background": "light"
     },
     "output_type": "display_data"
    }
   ],
   "source": [
    "stud.plot_grades()"
   ]
  },
  {
   "cell_type": "markdown",
   "id": "b9ecb748-8e3b-416c-9378-2e05521660b3",
   "metadata": {},
   "source": [
    "## Exercise 7.4"
   ]
  },
  {
   "cell_type": "code",
   "execution_count": 122,
   "id": "3264dab1-bf7e-4652-8379-37310d29fc6f",
   "metadata": {},
   "outputs": [],
   "source": [
    "class V3:\n",
    "    '''\n",
    "    Class for exercise 7.4\n",
    "    '''\n",
    "    def __init__(self,instance_size,num_vcpus,memory,disk_space):\n",
    "        self.instance_size = instance_size\n",
    "        self.num_vcpus = num_vcpus\n",
    "        self.memory = memory\n",
    "        self.disk_space = disk_space\n",
    "        \n",
    "    def add_disk_space(self,amt_to_add):\n",
    "        self.disk_space += amt_to_add\n",
    "        \n",
    "    def has_enough_disk_space(self,amt_required):\n",
    "        if self.disk_space >= amt_required:\n",
    "            print('Disk has enough space') \n",
    "            return True \n",
    "        else:\n",
    "            print('Disk does not has enough space') \n",
    "            return False"
   ]
  },
  {
   "cell_type": "markdown",
   "id": "ce3d8aa3-0706-4d66-8400-1b260b2e1a3c",
   "metadata": {},
   "source": [
    "## Exercise 7.5"
   ]
  },
  {
   "cell_type": "code",
   "execution_count": 123,
   "id": "9de3b0db-7360-4df3-86b7-03f0533ce54f",
   "metadata": {},
   "outputs": [],
   "source": [
    "my_v3 = V3('large',32,256,1.)"
   ]
  },
  {
   "cell_type": "code",
   "execution_count": 124,
   "id": "45164c03-ee85-46da-a997-a566b50ecd68",
   "metadata": {},
   "outputs": [],
   "source": [
    "my_v3.add_disk_space(2.0)"
   ]
  },
  {
   "cell_type": "code",
   "execution_count": 126,
   "id": "525eb528-0c61-4e56-b709-2f3d2227048f",
   "metadata": {},
   "outputs": [
    {
     "data": {
      "text/plain": [
       "3.0"
      ]
     },
     "execution_count": 126,
     "metadata": {},
     "output_type": "execute_result"
    }
   ],
   "source": [
    "my_v3.disk_space"
   ]
  },
  {
   "cell_type": "code",
   "execution_count": 125,
   "id": "5078bffe-b040-4345-9d22-dd47fd427e2f",
   "metadata": {},
   "outputs": [
    {
     "name": "stdout",
     "output_type": "stream",
     "text": [
      "Disk does not has enough space\n"
     ]
    },
    {
     "data": {
      "text/plain": [
       "False"
      ]
     },
     "execution_count": 125,
     "metadata": {},
     "output_type": "execute_result"
    }
   ],
   "source": [
    "my_v3.has_enough_disk_space(10.0)"
   ]
  },
  {
   "cell_type": "markdown",
   "id": "dd46e61a-027c-443c-854a-d43d05e6a3c6",
   "metadata": {},
   "source": [
    "## Exercise 7.6"
   ]
  },
  {
   "cell_type": "code",
   "execution_count": 148,
   "id": "bd718e19-09bc-4b58-b239-9c9b7a61664a",
   "metadata": {},
   "outputs": [],
   "source": [
    "from math import pi\n",
    "\n",
    "class Circle:\n",
    "    \n",
    "    def __init__(self, radius):\n",
    "        self.radius = radius\n",
    "        \n",
    "    def compute_area(self):\n",
    "        area = pi * (self.radius**2)\n",
    "        print(area)\n",
    "        \n",
    "    def compute_circumference(self):\n",
    "        circumference = 2 * pi * self.radius\n",
    "        print(circumference)\n",
    "        "
   ]
  },
  {
   "cell_type": "code",
   "execution_count": 153,
   "id": "289ce0f0-3f64-4a40-8d8e-ed75517660d7",
   "metadata": {},
   "outputs": [],
   "source": [
    "my_circle = Circle(3)"
   ]
  },
  {
   "cell_type": "code",
   "execution_count": 154,
   "id": "d318110b-1fea-4aae-a5a3-36c6db046f69",
   "metadata": {},
   "outputs": [
    {
     "name": "stdout",
     "output_type": "stream",
     "text": [
      "28.274333882308138\n"
     ]
    }
   ],
   "source": [
    "my_circle.compute_area()"
   ]
  },
  {
   "cell_type": "code",
   "execution_count": 155,
   "id": "92155399-07ec-400c-83d7-b97e6724c3bb",
   "metadata": {},
   "outputs": [
    {
     "name": "stdout",
     "output_type": "stream",
     "text": [
      "18.84955592153876\n"
     ]
    }
   ],
   "source": [
    "my_circle.compute_circumference()"
   ]
  }
 ],
 "metadata": {
  "kernelspec": {
   "display_name": "Python 3",
   "language": "python",
   "name": "python3"
  },
  "language_info": {
   "codemirror_mode": {
    "name": "ipython",
    "version": 3
   },
   "file_extension": ".py",
   "mimetype": "text/x-python",
   "name": "python",
   "nbconvert_exporter": "python",
   "pygments_lexer": "ipython3",
   "version": "3.8.8"
  }
 },
 "nbformat": 4,
 "nbformat_minor": 5
}
