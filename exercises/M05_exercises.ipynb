{
 "cells": [
  {
   "cell_type": "markdown",
   "id": "60a656e9-c97e-4b3f-9a1e-596573674bbd",
   "metadata": {},
   "source": [
    "# Module 5 Exercises"
   ]
  },
  {
   "cell_type": "markdown",
   "id": "7e82cbfe-8a99-4896-8ae0-6c30107260cb",
   "metadata": {},
   "source": [
    "## Exercise 5.1"
   ]
  },
  {
   "cell_type": "code",
   "execution_count": 3,
   "id": "d95d3be8-abf2-4a7a-a9bd-52a54d14beb0",
   "metadata": {},
   "outputs": [
    {
     "name": "stdout",
     "output_type": "stream",
     "text": [
      "CPU times: user 4 µs, sys: 1e+03 ns, total: 5 µs\n",
      "Wall time: 11 µs\n"
     ]
    }
   ],
   "source": [
    "%time\n",
    "\n",
    "list=[]\n",
    "for i in range(1,100001):\n",
    "    if i%2:\n",
    "        list.append(-i)\n",
    "    else:\n",
    "        list.append(i)"
   ]
  },
  {
   "cell_type": "markdown",
   "id": "5ba35a19-572d-47c9-845c-96c5dd622c94",
   "metadata": {},
   "source": [
    "## Exercise 5.2"
   ]
  },
  {
   "cell_type": "code",
   "execution_count": 9,
   "id": "cf0e8a01-12d4-44ef-ab32-65fafd27a3fa",
   "metadata": {},
   "outputs": [
    {
     "data": {
      "text/plain": [
       "0.024697065353393555"
      ]
     },
     "execution_count": 9,
     "metadata": {},
     "output_type": "execute_result"
    }
   ],
   "source": [
    "import time\n",
    "t0 = time.time()\n",
    "\n",
    "list = [i*-1 if i%2==1 else i for i in range(1,100001)]\n",
    "\n",
    "time.time() - t0"
   ]
  },
  {
   "cell_type": "markdown",
   "id": "6409fc7f-aef4-4cbb-be73-8863f6a82b38",
   "metadata": {},
   "source": [
    "## Exercise 5.3"
   ]
  },
  {
   "cell_type": "code",
   "execution_count": 22,
   "id": "36e63e6a-f4a0-4b9f-b559-ddf1af687ac3",
   "metadata": {},
   "outputs": [
    {
     "name": "stdout",
     "output_type": "stream",
     "text": [
      "2,1,4,2,2,4,5,4,1,4\n"
     ]
    }
   ],
   "source": [
    "import numpy as np\n",
    "\n",
    "my_list = np.random.randint(1,7,10)\n",
    "\n",
    "print(','.join(my_list.astype(str)))"
   ]
  },
  {
   "cell_type": "markdown",
   "id": "fb16042b-5113-4a65-9aac-15c5781ad676",
   "metadata": {},
   "source": [
    "## Exercise 5.4"
   ]
  },
  {
   "cell_type": "code",
   "execution_count": 27,
   "id": "5d49503d-dcbb-472d-814f-11803c5a7bec",
   "metadata": {},
   "outputs": [
    {
     "data": {
      "text/plain": [
       "3"
      ]
     },
     "execution_count": 27,
     "metadata": {},
     "output_type": "execute_result"
    }
   ],
   "source": [
    "np.random.randint(1,10)"
   ]
  },
  {
   "cell_type": "code",
   "execution_count": 29,
   "id": "9723d7fc-9a26-443c-b2d3-7316ab699643",
   "metadata": {},
   "outputs": [
    {
     "data": {
      "text/plain": [
       "array([18,  6,  8, 13, 18])"
      ]
     },
     "execution_count": 29,
     "metadata": {},
     "output_type": "execute_result"
    }
   ],
   "source": [
    "random_ints = np.random.randint(1,22,5)\n",
    "random_ints"
   ]
  },
  {
   "cell_type": "markdown",
   "id": "dfe33feb-3ada-4450-900f-3abcb1771c4c",
   "metadata": {},
   "source": [
    "## Exercise 5.5"
   ]
  },
  {
   "cell_type": "code",
   "execution_count": 30,
   "id": "24a70f19-15fa-42d1-bea8-497832f9f181",
   "metadata": {},
   "outputs": [
    {
     "data": {
      "text/plain": [
       "(array([1., 1., 0., 0., 0., 1., 0., 0., 0., 2.]),\n",
       " array([ 6. ,  7.2,  8.4,  9.6, 10.8, 12. , 13.2, 14.4, 15.6, 16.8, 18. ]),\n",
       " <BarContainer object of 10 artists>)"
      ]
     },
     "execution_count": 30,
     "metadata": {},
     "output_type": "execute_result"
    },
    {
     "data": {
      "image/png": "[encoded data removed]",
      "text/plain": [
       "<Figure size 432x288 with 1 Axes>"
      ]
     },
     "metadata": {
      "needs_background": "light"
     },
     "output_type": "display_data"
    }
   ],
   "source": [
    "from matplotlib.pyplot import hist\n",
    "\n",
    "hist(random_ints)"
   ]
  },
  {
   "cell_type": "markdown",
   "id": "1e2c16d5-2903-44c1-a442-76712f96f267",
   "metadata": {},
   "source": [
    "## Exercise 5.6"
   ]
  },
  {
   "cell_type": "code",
   "execution_count": 32,
   "id": "bee539cc-fe9d-478d-b12e-7ad4a422f96d",
   "metadata": {},
   "outputs": [
    {
     "data": {
      "text/plain": [
       "array([[-1.40488976,  1.32865261, -0.44427376],\n",
       "       [ 0.64848828,  0.90831991, -2.03441068]])"
      ]
     },
     "execution_count": 32,
     "metadata": {},
     "output_type": "execute_result"
    }
   ],
   "source": [
    "x = np.random.randn(2,3)\n",
    "x"
   ]
  },
  {
   "cell_type": "markdown",
   "id": "8e991196-4a23-4117-8a24-3f6a7773df89",
   "metadata": {},
   "source": [
    "## Exercise 5.7"
   ]
  },
  {
   "cell_type": "code",
   "execution_count": 33,
   "id": "36e2afac-b84e-45fb-9d16-1d9765da1026",
   "metadata": {},
   "outputs": [
    {
     "data": {
      "text/plain": [
       "array([[-2.80977952,  2.65730521, -0.88854751],\n",
       "       [ 1.29697656,  1.81663982, -4.06882136]])"
      ]
     },
     "execution_count": 33,
     "metadata": {},
     "output_type": "execute_result"
    }
   ],
   "source": [
    "x * 2"
   ]
  },
  {
   "cell_type": "markdown",
   "id": "2287a77f-8036-413e-a48d-11dc5d508690",
   "metadata": {},
   "source": [
    "## Exercise 5.8"
   ]
  },
  {
   "cell_type": "code",
   "execution_count": 34,
   "id": "08674cdc-dc06-4a93-a69a-c15c69d2819a",
   "metadata": {},
   "outputs": [
    {
     "data": {
      "text/plain": [
       "array([[-2.80977952,  2.65730521, -0.88854751],\n",
       "       [ 1.29697656,  1.81663982, -4.06882136]])"
      ]
     },
     "execution_count": 34,
     "metadata": {},
     "output_type": "execute_result"
    }
   ],
   "source": [
    "x + x"
   ]
  },
  {
   "cell_type": "markdown",
   "id": "16628128-45dd-4cb7-b414-3c1d9a0ced25",
   "metadata": {},
   "source": [
    "## Exercise 5.9"
   ]
  },
  {
   "cell_type": "code",
   "execution_count": 35,
   "id": "48a5c03b-7425-42ce-a836-543e7db6dc9e",
   "metadata": {},
   "outputs": [
    {
     "data": {
      "text/plain": [
       "array([[-0.71179962,  0.75264218, -2.25086444],\n",
       "       [ 1.54204791,  1.1009337 , -0.49154284]])"
      ]
     },
     "execution_count": 35,
     "metadata": {},
     "output_type": "execute_result"
    }
   ],
   "source": [
    "1 / x"
   ]
  },
  {
   "cell_type": "markdown",
   "id": "b6ff449b-fad1-4539-be87-ccf913576332",
   "metadata": {},
   "source": [
    "## Exercise 5.10"
   ]
  },
  {
   "cell_type": "code",
   "execution_count": 39,
   "id": "a8e4ea2b-efea-4337-b42a-679ed3a3d38e",
   "metadata": {},
   "outputs": [
    {
     "data": {
      "text/plain": [
       "array([[0., 0., 0., 0.],\n",
       "       [0., 0., 0., 0.]])"
      ]
     },
     "execution_count": 39,
     "metadata": {},
     "output_type": "execute_result"
    }
   ],
   "source": [
    "shape = (2,4)\n",
    "\n",
    "zeros = np.zeros(shape)\n",
    "zeros"
   ]
  },
  {
   "cell_type": "code",
   "execution_count": 40,
   "id": "f0c29900-917d-4192-bb30-5aa59354d888",
   "metadata": {},
   "outputs": [
    {
     "data": {
      "text/plain": [
       "array([[1., 1., 1., 1.],\n",
       "       [1., 1., 1., 1.]])"
      ]
     },
     "execution_count": 40,
     "metadata": {},
     "output_type": "execute_result"
    }
   ],
   "source": [
    "ones = np.ones(shape)\n",
    "ones"
   ]
  },
  {
   "cell_type": "markdown",
   "id": "6b024e6f-6f1b-4b69-bb29-af8d97831221",
   "metadata": {},
   "source": [
    "## Exercise 5.11"
   ]
  },
  {
   "cell_type": "code",
   "execution_count": 43,
   "id": "bfab8737-4f63-4669-b4fb-c8f6d3710f03",
   "metadata": {},
   "outputs": [
    {
     "data": {
      "text/plain": [
       "array([[1., 0., 0., 0.],\n",
       "       [0., 1., 0., 0.],\n",
       "       [0., 0., 1., 0.],\n",
       "       [0., 0., 0., 1.]])"
      ]
     },
     "execution_count": 43,
     "metadata": {},
     "output_type": "execute_result"
    }
   ],
   "source": [
    "np.identity(4)"
   ]
  },
  {
   "cell_type": "markdown",
   "id": "e0bc5085-91e4-41b8-968d-39add740a1be",
   "metadata": {},
   "source": [
    "## Exercise 5.12"
   ]
  },
  {
   "cell_type": "code",
   "execution_count": 53,
   "id": "efe5193b-9dca-4333-b2d8-e1283df8d711",
   "metadata": {},
   "outputs": [
    {
     "data": {
      "text/plain": [
       "array([-0.99081324, -1.83168295, -1.80489493,  0.37308568, -0.44365329])"
      ]
     },
     "execution_count": 53,
     "metadata": {},
     "output_type": "execute_result"
    }
   ],
   "source": [
    "v = np.random.randn(5)\n",
    "v"
   ]
  },
  {
   "cell_type": "code",
   "execution_count": 54,
   "id": "6597cb37-bfbf-43b2-99d2-577fb0c18c3c",
   "metadata": {},
   "outputs": [
    {
     "data": {
      "text/plain": [
       "array([-1.83168295, -1.80489493,  0.37308568])"
      ]
     },
     "execution_count": 54,
     "metadata": {},
     "output_type": "execute_result"
    }
   ],
   "source": [
    "v[1:4]"
   ]
  },
  {
   "cell_type": "code",
   "execution_count": 55,
   "id": "292a9329-121b-408e-a23e-74eb9e022a4e",
   "metadata": {
    "tags": []
   },
   "outputs": [
    {
     "data": {
      "text/plain": [
       "array([-1.83168295, -1.80489493,  0.37308568])"
      ]
     },
     "execution_count": 55,
     "metadata": {},
     "output_type": "execute_result"
    }
   ],
   "source": [
    "v[1:-1]"
   ]
  },
  {
   "cell_type": "markdown",
   "id": "e1968a04-ad04-474c-b52b-c0cd63880a8c",
   "metadata": {},
   "source": [
    "## Exercise 5.13"
   ]
  },
  {
   "cell_type": "code",
   "execution_count": 56,
   "id": "624d9aff-d5ce-4fe5-8554-c2b787a33d1f",
   "metadata": {},
   "outputs": [
    {
     "data": {
      "text/plain": [
       "array([0.37308568])"
      ]
     },
     "execution_count": 56,
     "metadata": {},
     "output_type": "execute_result"
    }
   ],
   "source": [
    "v[v > 0.15]"
   ]
  },
  {
   "cell_type": "code",
   "execution_count": null,
   "id": "6f97f7f5-dab7-428c-80a9-a5241b14a61f",
   "metadata": {},
   "outputs": [],
   "source": []
  }
 ],
 "metadata": {
  "kernelspec": {
   "display_name": "Python 3",
   "language": "python",
   "name": "python3"
  },
  "language_info": {
   "codemirror_mode": {
    "name": "ipython",
    "version": 3
   },
   "file_extension": ".py",
   "mimetype": "text/x-python",
   "name": "python",
   "nbconvert_exporter": "python",
   "pygments_lexer": "ipython3",
   "version": "3.8.8"
  }
 },
 "nbformat": 4,
 "nbformat_minor": 5
}
