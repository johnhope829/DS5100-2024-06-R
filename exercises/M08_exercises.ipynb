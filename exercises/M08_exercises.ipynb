{
 "cells": [
  {
   "cell_type": "markdown",
   "id": "7c2f411f-4ec4-4f16-87db-616a717141fa",
   "metadata": {},
   "source": [
    "## Exercise 8.1"
   ]
  },
  {
   "cell_type": "code",
   "execution_count": 3,
   "id": "0e70a41a-969f-4395-9f01-87616af8df9f",
   "metadata": {},
   "outputs": [
    {
     "name": "stdout",
     "output_type": "stream",
     "text": [
      "division by zero\n"
     ]
    }
   ],
   "source": [
    "x = 1\n",
    "\n",
    "try:\n",
    "    x / 0\n",
    "except ZeroDivisionError as e:\n",
    "    print(e)"
   ]
  },
  {
   "cell_type": "code",
   "execution_count": 5,
   "id": "29b288dc-9f20-4f99-962e-b635075a9fee",
   "metadata": {},
   "outputs": [
    {
     "name": "stdout",
     "output_type": "stream",
     "text": [
      "1.0\n"
     ]
    }
   ],
   "source": [
    "x = 1\n",
    "\n",
    "try:\n",
    "    print(x / 1)\n",
    "except ZeroDivisionError as e:\n",
    "    print(e)"
   ]
  },
  {
   "cell_type": "markdown",
   "id": "635fbafb-a64e-4803-8838-9989e08169e8",
   "metadata": {},
   "source": [
    "## Exercise 8.2"
   ]
  },
  {
   "cell_type": "code",
   "execution_count": 9,
   "id": "ade79a36-9955-4c9b-b46e-5edb6bcfef29",
   "metadata": {},
   "outputs": [],
   "source": [
    "x = 1 == 1\n",
    "y = 1 == 0\n",
    "\n",
    "assert x, \"This is not true\""
   ]
  },
  {
   "cell_type": "code",
   "execution_count": 10,
   "id": "0bdf35b8-6487-4b02-b025-fa1ef837dfe3",
   "metadata": {},
   "outputs": [
    {
     "ename": "AssertionError",
     "evalue": "This is not true",
     "output_type": "error",
     "traceback": [
      "\u001b[0;31m---------------------------------------------------------------------------\u001b[0m",
      "\u001b[0;31mAssertionError\u001b[0m                            Traceback (most recent call last)",
      "\u001b[0;32m<ipython-input-10-9f19118f14f2>\u001b[0m in \u001b[0;36m<module>\u001b[0;34m\u001b[0m\n\u001b[0;32m----> 1\u001b[0;31m \u001b[0;32massert\u001b[0m \u001b[0my\u001b[0m\u001b[0;34m,\u001b[0m \u001b[0;34m\"This is not true\"\u001b[0m\u001b[0;34m\u001b[0m\u001b[0;34m\u001b[0m\u001b[0m\n\u001b[0m",
      "\u001b[0;31mAssertionError\u001b[0m: This is not true"
     ]
    }
   ],
   "source": [
    "assert y, \"This is not true\""
   ]
  },
  {
   "cell_type": "markdown",
   "id": "dc0b88c0-bcfd-42cc-b6fb-01200527fa53",
   "metadata": {},
   "source": [
    "## Exercise 8.3"
   ]
  },
  {
   "cell_type": "code",
   "execution_count": 11,
   "id": "94a5d493-f502-4f1b-8fcc-cc1bb4b17394",
   "metadata": {},
   "outputs": [],
   "source": [
    "import math\n",
    "\n",
    "def area(s):\n",
    "    return math.pi * (s ** 2)"
   ]
  },
  {
   "cell_type": "code",
   "execution_count": 16,
   "id": "910cadbb-2948-4fab-a5b5-664217ef94f2",
   "metadata": {},
   "outputs": [],
   "source": [
    "assert isinstance(area(1), float), 'Number is not a float'"
   ]
  },
  {
   "cell_type": "code",
   "execution_count": 17,
   "id": "d37fe868-229e-4bba-a904-8671c1bf64e8",
   "metadata": {},
   "outputs": [],
   "source": [
    "assert area(0) == 0, 'Result of area with radius 0 is incorrect'"
   ]
  },
  {
   "cell_type": "code",
   "execution_count": 18,
   "id": "d5eaf272-a283-4519-8094-9becb2613d6c",
   "metadata": {},
   "outputs": [],
   "source": [
    "assert math.isclose(area(5),78.5,abs_tol=0.1), 'Area with radius 5 not approximately 78.5'"
   ]
  },
  {
   "cell_type": "markdown",
   "id": "1b3b9fe1-6d76-4974-8ef9-93b96cd0aa2e",
   "metadata": {},
   "source": [
    "## Exercise 8.4"
   ]
  },
  {
   "cell_type": "code",
   "execution_count": 19,
   "id": "4fc98453-85ac-492d-a3e0-922e9a7ffea1",
   "metadata": {},
   "outputs": [
    {
     "name": "stdout",
     "output_type": "stream",
     "text": [
      "list.remove(x): x not in list\n"
     ]
    }
   ],
   "source": [
    "!python student_test.py 2> test-results.txt"
   ]
  },
  {
   "cell_type": "markdown",
   "id": "6040550d-5be9-4a60-a2a0-fb5bc210e767",
   "metadata": {},
   "source": [
    "## Exercise 8.5"
   ]
  },
  {
   "cell_type": "code",
   "execution_count": null,
   "id": "541941ad-1359-4d12-9235-b6abb9af787b",
   "metadata": {},
   "outputs": [],
   "source": [
    "class Car:\n",
    "    \n",
    "    body_types_allowed = ['suv','sedan','hatchback','sport']\n",
    "    engine_types_allowed = ['electric','gas','diesel','hybrid']\n",
    "    \n",
    "    def __init__(self,body_type,engine_type):\n",
    "        if body_type in body_types_allowed: \n",
    "            self.body_type = body_type\n",
    "        else:\n",
    "            raise ValueError\n",
    "        \n",
    "        if engine_type in engine_types_allowed:\n",
    "            self.engine_type = engine_type\n",
    "        else:\n",
    "            raise ValueError\n",
    "        \n",
    "    def describe_car(self):\n",
    "        return f\"{self.engine_type} {self.body_type}\""
   ]
  },
  {
   "cell_type": "code",
   "execution_count": null,
   "id": "6c9dbb65-3936-4d2d-b58b-bb13ee4bc3fe",
   "metadata": {},
   "outputs": [],
   "source": [
    "class Subaru(Car):\n",
    "    \n",
    "    def __init__(self,body_type,engine_type,year,model,trim=None):\n",
    "        self.year=year\n",
    "        self.model=model\n",
    "        self.trim=trim\n",
    "        Car.__init__(self,body_type,engine_type)"
   ]
  }
 ],
 "metadata": {
  "kernelspec": {
   "display_name": "Python 3",
   "language": "python",
   "name": "python3"
  },
  "language_info": {
   "codemirror_mode": {
    "name": "ipython",
    "version": 3
   },
   "file_extension": ".py",
   "mimetype": "text/x-python",
   "name": "python",
   "nbconvert_exporter": "python",
   "pygments_lexer": "ipython3",
   "version": "3.8.8"
  }
 },
 "nbformat": 4,
 "nbformat_minor": 5
}
