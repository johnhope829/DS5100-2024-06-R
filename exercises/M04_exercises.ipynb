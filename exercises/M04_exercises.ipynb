{
 "cells": [
  {
   "cell_type": "markdown",
   "id": "a23c8129-257e-4440-bfb1-f9d46388a597",
   "metadata": {},
   "source": [
    "# M04 Exercises"
   ]
  },
  {
   "cell_type": "markdown",
   "id": "ce6ff03f-19b7-444f-bb81-b844f891027a",
   "metadata": {},
   "source": [
    "## Exercise 4.1"
   ]
  },
  {
   "cell_type": "code",
   "execution_count": 8,
   "id": "746872b6-8cf4-4395-b3ae-3f45afd51474",
   "metadata": {},
   "outputs": [],
   "source": [
    "def str_len_int_equal(text,val):\n",
    "    '''\n",
    "    Assesses whether the string argument's length is equal to the integer argument\n",
    "    '''\n",
    "    \n",
    "    return len(text) == val"
   ]
  },
  {
   "cell_type": "code",
   "execution_count": 9,
   "id": "34bd104f-ba11-430d-a2dc-c819c3e15bd7",
   "metadata": {},
   "outputs": [
    {
     "data": {
      "text/plain": [
       "True"
      ]
     },
     "execution_count": 9,
     "metadata": {},
     "output_type": "execute_result"
    }
   ],
   "source": [
    "str_len_int_equal(\"is this text the right length?\",30)"
   ]
  },
  {
   "cell_type": "code",
   "execution_count": 10,
   "id": "cd47a9f6-5158-481f-b92d-f8dce33edc19",
   "metadata": {},
   "outputs": [
    {
     "data": {
      "text/plain": [
       "False"
      ]
     },
     "execution_count": 10,
     "metadata": {},
     "output_type": "execute_result"
    }
   ],
   "source": [
    "str_len_int_equal(\"is this text the same length?\",35)"
   ]
  },
  {
   "cell_type": "markdown",
   "id": "1dcfc95b-7498-42da-a317-35c287d76bce",
   "metadata": {},
   "source": [
    "## Exercise 4.2"
   ]
  },
  {
   "cell_type": "code",
   "execution_count": 17,
   "id": "b7926e65-c4b7-4ec0-8392-8a13790323bc",
   "metadata": {},
   "outputs": [],
   "source": [
    "def square_values(*args):\n",
    "    for arg in args:\n",
    "        print(arg**2)"
   ]
  },
  {
   "cell_type": "code",
   "execution_count": 19,
   "id": "11dbc89e-3071-4f4c-9b4d-71861da7ad28",
   "metadata": {},
   "outputs": [
    {
     "name": "stdout",
     "output_type": "stream",
     "text": [
      "9\n",
      "25\n",
      "49\n"
     ]
    }
   ],
   "source": [
    "square_values(3,5,7)"
   ]
  },
  {
   "cell_type": "code",
   "execution_count": 23,
   "id": "fdb89c46-713a-42dc-846f-983c8c447c65",
   "metadata": {},
   "outputs": [
    {
     "name": "stdout",
     "output_type": "stream",
     "text": [
      "9\n",
      "25\n",
      "49\n"
     ]
    }
   ],
   "source": [
    "square_values(*[3,5,7])"
   ]
  },
  {
   "cell_type": "code",
   "execution_count": 24,
   "id": "7824ec55-e161-4937-a3eb-a4ba19d4da61",
   "metadata": {},
   "outputs": [
    {
     "name": "stdout",
     "output_type": "stream",
     "text": [
      "9\n",
      "25\n",
      "49\n"
     ]
    }
   ],
   "source": [
    "result = square_values(3,5,7)"
   ]
  },
  {
   "cell_type": "code",
   "execution_count": 25,
   "id": "fd3a2fe0-9f65-4984-8ef7-bd1bfc958aa7",
   "metadata": {},
   "outputs": [
    {
     "name": "stdout",
     "output_type": "stream",
     "text": [
      "None\n"
     ]
    }
   ],
   "source": [
    "print(result)"
   ]
  },
  {
   "cell_type": "markdown",
   "id": "658df904-0953-44a5-a568-cedfa1398958",
   "metadata": {},
   "source": [
    "## Exercise 4.3"
   ]
  },
  {
   "cell_type": "code",
   "execution_count": 46,
   "id": "795158d8-292a-414f-aafb-34f1aa845a7b",
   "metadata": {},
   "outputs": [],
   "source": [
    "def word_shortener(text):\n",
    "    '''\n",
    "    Takes a long word and returns a string that has the same first and last letters capitalized, and replaces the middle letters with\n",
    "    the number of middle letters.\n",
    "    '''\n",
    "    if isinstance(text, str) and len(text) >=3:\n",
    "        return text[0].upper() + str(len(text)-2) + text[-1].upper()\n",
    "    else:\n",
    "        print('Arguments are not satisfactory for function.')"
   ]
  },
  {
   "cell_type": "code",
   "execution_count": 47,
   "id": "b7efc73b-5f03-4522-b261-15def3d81cb4",
   "metadata": {},
   "outputs": [
    {
     "data": {
      "text/plain": [
       "'I18N'"
      ]
     },
     "execution_count": 47,
     "metadata": {},
     "output_type": "execute_result"
    }
   ],
   "source": [
    "word_shortener('internationalization')"
   ]
  },
  {
   "cell_type": "code",
   "execution_count": 48,
   "id": "7c852c64-a52f-478b-8a57-52e6cd3baa98",
   "metadata": {},
   "outputs": [
    {
     "name": "stdout",
     "output_type": "stream",
     "text": [
      "Arguments are not satisfactory for function.\n"
     ]
    }
   ],
   "source": [
    "word_shortener('hi')"
   ]
  },
  {
   "cell_type": "markdown",
   "id": "0e756185-ea04-4ac9-a9bd-1501ac78c565",
   "metadata": {},
   "source": [
    "## Exercise 4.4"
   ]
  },
  {
   "cell_type": "code",
   "execution_count": 53,
   "id": "51bd644c-60af-4369-ae4f-c259d2890e06",
   "metadata": {},
   "outputs": [],
   "source": [
    "def diff_non_negative(val):\n",
    "    diff = val - 5\n",
    "    if diff >= 0:\n",
    "        return 1\n",
    "    else:\n",
    "        return 0"
   ]
  },
  {
   "cell_type": "code",
   "execution_count": 54,
   "id": "3b5c6d25-05d8-43a7-8543-e4be7eaec0e3",
   "metadata": {},
   "outputs": [
    {
     "data": {
      "text/plain": [
       "1"
      ]
     },
     "execution_count": 54,
     "metadata": {},
     "output_type": "execute_result"
    }
   ],
   "source": [
    "diff_non_negative(6)"
   ]
  },
  {
   "cell_type": "code",
   "execution_count": 55,
   "id": "41ea1bde-6617-432f-b780-109ac7b3a051",
   "metadata": {},
   "outputs": [
    {
     "data": {
      "text/plain": [
       "1"
      ]
     },
     "execution_count": 55,
     "metadata": {},
     "output_type": "execute_result"
    }
   ],
   "source": [
    "diff_non_negative(5)"
   ]
  },
  {
   "cell_type": "code",
   "execution_count": 56,
   "id": "a410edaa-dd77-4f29-8e70-734300cd835a",
   "metadata": {},
   "outputs": [
    {
     "data": {
      "text/plain": [
       "0"
      ]
     },
     "execution_count": 56,
     "metadata": {},
     "output_type": "execute_result"
    }
   ],
   "source": [
    "diff_non_negative(4)"
   ]
  }
 ],
 "metadata": {
  "kernelspec": {
   "display_name": "Python 3",
   "language": "python",
   "name": "python3"
  },
  "language_info": {
   "codemirror_mode": {
    "name": "ipython",
    "version": 3
   },
   "file_extension": ".py",
   "mimetype": "text/x-python",
   "name": "python",
   "nbconvert_exporter": "python",
   "pygments_lexer": "ipython3",
   "version": "3.8.8"
  }
 },
 "nbformat": 4,
 "nbformat_minor": 5
}
